{
 "cells": [
  {
   "cell_type": "markdown",
   "metadata": {},
   "source": [
    "In these notes, we consider a simple mixed integer linear program (MILP) and derive a Benders decomposition scheme to solve it."
   ]
  },
  {
   "cell_type": "code",
   "execution_count": 152,
   "metadata": {},
   "outputs": [
    {
     "name": "stderr",
     "output_type": "stream",
     "text": [
      "\u001b[32m\u001b[1m  Activating\u001b[22m\u001b[39m project at `~/Code/power-systems-optimization`\n"
     ]
    }
   ],
   "source": [
    "using Pkg; Pkg.activate(dirname(@__DIR__))\n",
    "using JuMP\n",
    "using HiGHS"
   ]
  },
  {
   "cell_type": "code",
   "execution_count": 153,
   "metadata": {},
   "outputs": [],
   "source": [
    "f = [1, 4];\n",
    "c = [2, 3];\n",
    "e = [-2; -3];\n",
    "A = [1 -3; -1 -3];\n",
    "E = [1 -2; -1 -1];"
   ]
  },
  {
   "cell_type": "markdown",
   "metadata": {},
   "source": [
    "The full monolithic model is as follows:"
   ]
  },
  {
   "cell_type": "code",
   "execution_count": 154,
   "metadata": {},
   "outputs": [
    {
     "data": {
      "text/latex": [
       "$$ \\begin{aligned}\n",
       "\\min\\quad & 2 y_{1} + 3 y_{2} + x_{1} + 4 x_{2}\\\\\n",
       "\\text{Subject to} \\quad & x_{1} - 3 x_{2} + y_{1} - 2 y_{2} \\leq -2\\\\\n",
       " & -x_{1} - 3 x_{2} - y_{1} - y_{2} \\leq -3\\\\\n",
       " & x_{1} \\geq 0\\\\\n",
       " & x_{2} \\geq 0\\\\\n",
       " & y_{1} \\geq 0\\\\\n",
       " & y_{2} \\geq 0\\\\\n",
       " & x_{1} \\in \\mathbb{Z}\\\\\n",
       " & x_{2} \\in \\mathbb{Z}\\\\\n",
       "\\end{aligned} $$"
      ],
      "text/plain": [
       "$$ \\begin{aligned}\n",
       "\\min\\quad & 2 y_{1} + 3 y_{2} + x_{1} + 4 x_{2}\\\\\n",
       "\\text{Subject to} \\quad & x_{1} - 3 x_{2} + y_{1} - 2 y_{2} \\leq -2\\\\\n",
       " & -x_{1} - 3 x_{2} - y_{1} - y_{2} \\leq -3\\\\\n",
       " & x_{1} \\geq 0\\\\\n",
       " & x_{2} \\geq 0\\\\\n",
       " & y_{1} \\geq 0\\\\\n",
       " & y_{2} \\geq 0\\\\\n",
       " & x_{1} \\in \\mathbb{Z}\\\\\n",
       " & x_{2} \\in \\mathbb{Z}\\\\\n",
       "\\end{aligned} $$"
      ]
     },
     "metadata": {},
     "output_type": "display_data"
    }
   ],
   "source": [
    "monolithic_model = Model(HiGHS.Optimizer);\n",
    "@variable(monolithic_model, x[1:2] >= 0, Int);\n",
    "@variable(monolithic_model, y[1:2] >= 0);\n",
    "@constraint(monolithic_model, A*x + E*y .<= e);\n",
    "@objective(monolithic_model,Min, f'*x + c'*y);\n",
    "latex_formulation(monolithic_model)"
   ]
  },
  {
   "cell_type": "code",
   "execution_count": 155,
   "metadata": {},
   "outputs": [
    {
     "name": "stdout",
     "output_type": "stream",
     "text": [
      "Running HiGHS 1.8.1 (git hash: 4a7f24ac6): Copyright (c) 2024 HiGHS under MIT licence terms\n",
      "Coefficient ranges:\n",
      "  Matrix [1e+00, 3e+00]\n",
      "  Cost   [1e+00, 4e+00]\n",
      "  Bound  [0e+00, 0e+00]\n",
      "  RHS    [2e+00, 3e+00]\n",
      "Presolving model\n",
      "2 rows, 4 cols, 8 nonzeros  0s\n",
      "2 rows, 4 cols, 8 nonzeros  0s\n",
      "\n",
      "Solving MIP model with:\n",
      "   2 rows\n",
      "   4 cols (0 binary, 2 integer, 0 implied int., 2 continuous)\n",
      "   8 nonzeros\n",
      "MIP-Timing:     0.00012 - starting analytic centre calculation\n",
      "\n",
      "Src: B => Branching; C => Central rounding; F => Feasibility pump; H => Heuristic; L => Sub-MIP;\n",
      "     P => Empty MIP; R => Randomized rounding; S => Solve LP; T => Evaluate node; U => Unbounded;\n",
      "     z => Trivial zero; l => Trivial lower; u => Trivial upper; p => Trivial point\n",
      "\n",
      "        Nodes      |    B&B Tree     |            Objective Bounds              |  Dynamic Constraints |       Work      \n",
      "Src  Proc. InQueue |  Leaves   Expl. | BestBound       BestSol              Gap |   Cuts   InLp Confl. | LpIters     Time\n",
      "\n",
      "         0       0         0   0.00%   0               inf                  inf        0      0      0         0     0.0s\n",
      " R       0       0         0   0.00%   3.833333333     4                  4.17%        0      0      0         2     0.0s\n",
      "         1       0         1 100.00%   4               4                  0.00%        0      0      0         2     0.0s\n",
      "\n",
      "Solving report\n",
      "  Status            Optimal\n",
      "  Primal bound      4\n",
      "  Dual bound        4\n",
      "  Gap               0% (tolerance: 0.01%)\n",
      "  P-D integral      9.18399988829e-06\n",
      "  Solution status   feasible\n",
      "                    4 (objective)\n",
      "                    0 (bound viol.)\n",
      "                    0 (int. viol.)\n",
      "                    0 (row viol.)\n",
      "  Timing            0.00 (total)\n",
      "                    0.00 (presolve)\n",
      "                    0.00 (solve)\n",
      "                    0.00 (postsolve)\n",
      "  Max sub-MIP depth 0\n",
      "  Nodes             1\n",
      "  Repair LPs        0 (0 feasible; 0 iterations)\n",
      "  LP iterations     2 (total)\n",
      "                    0 (strong br.)\n",
      "                    0 (separation)\n",
      "                    0 (heuristics)\n"
     ]
    }
   ],
   "source": [
    "optimize!(monolithic_model)"
   ]
  },
  {
   "cell_type": "code",
   "execution_count": 156,
   "metadata": {},
   "outputs": [
    {
     "data": {
      "text/plain": [
       "2-element Vector{Float64}:\n",
       " 0.0\n",
       " 1.0"
      ]
     },
     "metadata": {},
     "output_type": "display_data"
    }
   ],
   "source": [
    "value.(monolithic_model[:x])"
   ]
  },
  {
   "cell_type": "markdown",
   "metadata": {},
   "source": [
    "Because we are considering a small example problem, the solver was able to quickly compute a solution. However, real-life mixed integer linear programs involve tens of thousands of integer decisions, pushing even the best commercial solvers to their computational limits. \n",
    "\n",
    "Note that if we fix the values of integer variables $x_1$ and $x_2$, we obtain a continuous linear program which can be easily solved. For this reason, Benders decomposition is often implemented to solve MILPs, considering integer decisions as complicating variables. "
   ]
  },
  {
   "cell_type": "markdown",
   "metadata": {},
   "source": [
    "Let's initialize the master (or planning) problem:"
   ]
  },
  {
   "cell_type": "code",
   "execution_count": 157,
   "metadata": {},
   "outputs": [
    {
     "data": {
      "text/latex": [
       "$$ \\begin{aligned}\n",
       "\\min\\quad & x_{1} + 4 x_{2} + θ\\\\\n",
       "\\text{Subject to} \\quad & x_{1} \\geq 0\\\\\n",
       " & x_{2} \\geq 0\\\\\n",
       " & θ \\geq -1000\\\\\n",
       " & x_{1} \\in \\mathbb{Z}\\\\\n",
       " & x_{2} \\in \\mathbb{Z}\\\\\n",
       "\\end{aligned} $$"
      ],
      "text/plain": [
       "$$ \\begin{aligned}\n",
       "\\min\\quad & x_{1} + 4 x_{2} + θ\\\\\n",
       "\\text{Subject to} \\quad & x_{1} \\geq 0\\\\\n",
       " & x_{2} \\geq 0\\\\\n",
       " & θ \\geq -1000\\\\\n",
       " & x_{1} \\in \\mathbb{Z}\\\\\n",
       " & x_{2} \\in \\mathbb{Z}\\\\\n",
       "\\end{aligned} $$"
      ]
     },
     "metadata": {},
     "output_type": "display_data"
    }
   ],
   "source": [
    "master = Model(HiGHS.Optimizer);\n",
    "@variable(master, x[1:2] >= 0, Int);\n",
    "@variable(master,θ>=-1000) #### Initial lower bound on the operational cost (if operational cost is always positive, this can be set to 0)\n",
    "@objective(master,Min, f'*x + θ);\n",
    "\n",
    "latex_formulation(master)"
   ]
  },
  {
   "cell_type": "markdown",
   "metadata": {},
   "source": [
    "Then, the subproblem is defined including auxiliary variables that act as local copies of the master variables:"
   ]
  },
  {
   "cell_type": "code",
   "execution_count": 158,
   "metadata": {},
   "outputs": [
    {
     "data": {
      "text/latex": [
       "$$ \\begin{aligned}\n",
       "\\min\\quad & 2 y_{1} + 3 y_{2}\\\\\n",
       "\\text{Subject to} \\quad & x_{1} - 3 x_{2} + y_{1} - 2 y_{2} \\leq -2\\\\\n",
       " & -x_{1} - 3 x_{2} - y_{1} - y_{2} \\leq -3\\\\\n",
       " & x_{1} \\geq 0\\\\\n",
       " & x_{2} \\geq 0\\\\\n",
       " & y_{1} \\geq 0\\\\\n",
       " & y_{2} \\geq 0\\\\\n",
       "\\end{aligned} $$"
      ],
      "text/plain": [
       "$$ \\begin{aligned}\n",
       "\\min\\quad & 2 y_{1} + 3 y_{2}\\\\\n",
       "\\text{Subject to} \\quad & x_{1} - 3 x_{2} + y_{1} - 2 y_{2} \\leq -2\\\\\n",
       " & -x_{1} - 3 x_{2} - y_{1} - y_{2} \\leq -3\\\\\n",
       " & x_{1} \\geq 0\\\\\n",
       " & x_{2} \\geq 0\\\\\n",
       " & y_{1} \\geq 0\\\\\n",
       " & y_{2} \\geq 0\\\\\n",
       "\\end{aligned} $$"
      ]
     },
     "metadata": {},
     "output_type": "display_data"
    }
   ],
   "source": [
    "subprob = Model(HiGHS.Optimizer);\n",
    "@variable(subprob, x[1:2] >= 0);\n",
    "@variable(subprob, y[1:2] >= 0);\n",
    "@constraint(subprob,A*x + E*y .<= e);\n",
    "@objective(subprob, Min, c'*y);\n",
    "latex_formulation(subprob)"
   ]
  },
  {
   "cell_type": "markdown",
   "metadata": {},
   "source": [
    "The Benders decomposition algorithm, starts from solving the master problem:"
   ]
  },
  {
   "cell_type": "code",
   "execution_count": 159,
   "metadata": {},
   "outputs": [
    {
     "name": "stdout",
     "output_type": "stream",
     "text": [
      "Running HiGHS 1.8.1 (git hash: 4a7f24ac6): Copyright (c) 2024 HiGHS under MIT licence terms\n",
      "Coefficient ranges:\n",
      "  Cost   [1e+00, 4e+00]\n",
      "  Bound  [1e+03, 1e+03]\n",
      "Presolving model\n",
      "0 rows, 0 cols, 0 nonzeros  0s\n",
      "0 rows, 0 cols, 0 nonzeros  0s\n",
      "Presolve: Optimal\n",
      "\n",
      "Src: B => Branching; C => Central rounding; F => Feasibility pump; H => Heuristic; L => Sub-MIP;\n",
      "     P => Empty MIP; R => Randomized rounding; S => Solve LP; T => Evaluate node; U => Unbounded;\n",
      "     z => Trivial zero; l => Trivial lower; u => Trivial upper; p => Trivial point\n",
      "\n",
      "        Nodes      |    B&B Tree     |            Objective Bounds              |  Dynamic Constraints |       Work      \n",
      "Src  Proc. InQueue |  Leaves   Expl. | BestBound       BestSol              Gap |   Cuts   InLp Confl. | LpIters     Time\n",
      "\n",
      "         0       0         0   0.00%   -1000           -1000              0.00%        0      0      0         0     0.0s\n",
      "\n",
      "Solving report\n",
      "  Status            Optimal\n",
      "  Primal bound      -1000\n",
      "  Dual bound        -1000\n",
      "  Gap               0% (tolerance: 0.01%)\n",
      "  P-D integral      0\n",
      "  Solution status   feasible\n",
      "                    -1000 (objective)\n",
      "                    0 (bound viol.)\n",
      "                    0 (int. viol.)\n",
      "                    0 (row viol.)\n",
      "  Timing            0.00 (total)\n",
      "                    0.00 (presolve)\n",
      "                    0.00 (solve)\n",
      "                    0.00 (postsolve)\n",
      "  Max sub-MIP depth 0\n",
      "  Nodes             0\n",
      "  Repair LPs        0 (0 feasible; 0 iterations)\n",
      "  LP iterations     0 (total)\n",
      "                    0 (strong br.)\n",
      "                    0 (separation)\n",
      "                    0 (heuristics)\n"
     ]
    }
   ],
   "source": [
    "optimize!(master)"
   ]
  },
  {
   "cell_type": "markdown",
   "metadata": {},
   "source": [
    "Using the solution of the master, we define a lower bound to the optimal value of our original MILP:"
   ]
  },
  {
   "cell_type": "code",
   "execution_count": 160,
   "metadata": {},
   "outputs": [
    {
     "data": {
      "text/plain": [
       "-1000.0"
      ]
     },
     "metadata": {},
     "output_type": "display_data"
    }
   ],
   "source": [
    "LB = objective_value(master)"
   ]
  },
  {
   "cell_type": "markdown",
   "metadata": {},
   "source": [
    "and also guesses for the master variables:"
   ]
  },
  {
   "cell_type": "code",
   "execution_count": 161,
   "metadata": {},
   "outputs": [
    {
     "data": {
      "text/plain": [
       "2-element Vector{Float64}:\n",
       " 0.0\n",
       " 0.0"
      ]
     },
     "metadata": {},
     "output_type": "display_data"
    }
   ],
   "source": [
    "xk = value.(master[:x])"
   ]
  },
  {
   "cell_type": "markdown",
   "metadata": {},
   "source": [
    "We fix these guesses in the subproblem:"
   ]
  },
  {
   "cell_type": "code",
   "execution_count": 162,
   "metadata": {},
   "outputs": [
    {
     "data": {
      "text/latex": [
       "$$ \\begin{aligned}\n",
       "\\min\\quad & 2 y_{1} + 3 y_{2}\\\\\n",
       "\\text{Subject to} \\quad & x_{1} - 3 x_{2} + y_{1} - 2 y_{2} \\leq -2\\\\\n",
       " & -x_{1} - 3 x_{2} - y_{1} - y_{2} \\leq -3\\\\\n",
       " & x_{1} = 0\\\\\n",
       " & x_{2} = 0\\\\\n",
       " & y_{1} \\geq 0\\\\\n",
       " & y_{2} \\geq 0\\\\\n",
       "\\end{aligned} $$"
      ],
      "text/plain": [
       "$$ \\begin{aligned}\n",
       "\\min\\quad & 2 y_{1} + 3 y_{2}\\\\\n",
       "\\text{Subject to} \\quad & x_{1} - 3 x_{2} + y_{1} - 2 y_{2} \\leq -2\\\\\n",
       " & -x_{1} - 3 x_{2} - y_{1} - y_{2} \\leq -3\\\\\n",
       " & x_{1} = 0\\\\\n",
       " & x_{2} = 0\\\\\n",
       " & y_{1} \\geq 0\\\\\n",
       " & y_{2} \\geq 0\\\\\n",
       "\\end{aligned} $$"
      ]
     },
     "metadata": {},
     "output_type": "display_data"
    }
   ],
   "source": [
    "fix.(subprob[:x],xk;force=true)\n",
    "latex_formulation(subprob)"
   ]
  },
  {
   "cell_type": "markdown",
   "metadata": {},
   "source": [
    "And solve it:"
   ]
  },
  {
   "cell_type": "code",
   "execution_count": 163,
   "metadata": {},
   "outputs": [
    {
     "name": "stdout",
     "output_type": "stream",
     "text": [
      "Running HiGHS 1.8.1 (git hash: 4a7f24ac6): Copyright (c) 2024 HiGHS under MIT licence terms\n",
      "Coefficient ranges:\n",
      "  Matrix [1e+00, 3e+00]\n",
      "  Cost   [2e+00, 3e+00]\n",
      "  Bound  [0e+00, 0e+00]\n",
      "  RHS    [2e+00, 3e+00]\n",
      "Presolving model\n",
      "2 rows, 2 cols, 4 nonzeros  0s\n",
      "2 rows, 2 cols, 4 nonzeros  0s\n",
      "Presolve : Reductions: rows 2(-0); columns 2(-2); elements 4(-4)\n",
      "Solving the presolved LP\n",
      "Using EKK dual simplex solver - serial\n",
      "  Iteration        Objective     Infeasibilities num(sum)\n",
      "          0     0.0000000000e+00 Pr: 2(5) 0s\n",
      "          2     7.6666666667e+00 Pr: 0(0) 0s\n",
      "Solving the original LP from the solution after postsolve\n",
      "Model status        : Optimal\n",
      "Simplex   iterations: 2\n",
      "Objective value     :  7.6666666667e+00\n",
      "Relative P-D gap    :  1.1584935909e-16\n",
      "HiGHS run time      :          0.00\n"
     ]
    }
   ],
   "source": [
    "optimize!(subprob)"
   ]
  },
  {
   "cell_type": "markdown",
   "metadata": {},
   "source": [
    "We can now compute an upper bound to the optimal value of the original MILP as: "
   ]
  },
  {
   "cell_type": "code",
   "execution_count": 164,
   "metadata": {},
   "outputs": [
    {
     "data": {
      "text/plain": [
       "7.666666666666666"
      ]
     },
     "metadata": {},
     "output_type": "display_data"
    }
   ],
   "source": [
    "UB = f'*xk + objective_value(subprob)"
   ]
  },
  {
   "cell_type": "markdown",
   "metadata": {},
   "source": [
    "With lower and upper bounds, we can compute the optimality gap, which gives a conserative estimate of the degree of sub-optimality of our current best guess:"
   ]
  },
  {
   "cell_type": "code",
   "execution_count": 165,
   "metadata": {},
   "outputs": [
    {
     "data": {
      "text/plain": [
       "131.43478260869566"
      ]
     },
     "metadata": {},
     "output_type": "display_data"
    }
   ],
   "source": [
    "gap = (UB-LB)/abs(UB)"
   ]
  },
  {
   "cell_type": "markdown",
   "metadata": {},
   "source": [
    "To improve our guesses, we need to include additional information into the master problem. \n",
    "\n",
    "Hence, we derive the so called optimality cuts, which are based on the dual solutions associated with the constraints fixing the values of the master variables in the subproblems:"
   ]
  },
  {
   "cell_type": "code",
   "execution_count": 166,
   "metadata": {},
   "outputs": [
    {
     "data": {
      "text/plain": [
       "2-element Vector{Float64}:\n",
       " -2.0\n",
       " -8.0"
      ]
     },
     "metadata": {},
     "output_type": "display_data"
    }
   ],
   "source": [
    "λ = dual.(FixRef.(subprob[:x]))"
   ]
  },
  {
   "cell_type": "markdown",
   "metadata": {},
   "source": [
    "Having only one subproblem, we add one optimality cut per iteration to the master problem:"
   ]
  },
  {
   "cell_type": "code",
   "execution_count": 167,
   "metadata": {},
   "outputs": [
    {
     "data": {
      "text/latex": [
       "$$ 2 x_{1} + 8 x_{2} + θ \\geq 7.666666666666666 $$"
      ],
      "text/plain": [
       "2 x[1] + 8 x[2] + θ ≥ 7.666666666666666"
      ]
     },
     "metadata": {},
     "output_type": "display_data"
    }
   ],
   "source": [
    "@constraint(master, master[:θ] >= objective_value(subprob) + λ'*(master[:x]-xk))"
   ]
  },
  {
   "cell_type": "markdown",
   "metadata": {},
   "source": [
    "We now solve the updated master problem:"
   ]
  },
  {
   "cell_type": "code",
   "execution_count": 168,
   "metadata": {},
   "outputs": [
    {
     "data": {
      "text/latex": [
       "$$ \\begin{aligned}\n",
       "\\min\\quad & x_{1} + 4 x_{2} + θ\\\\\n",
       "\\text{Subject to} \\quad & 2 x_{1} + 8 x_{2} + θ \\geq 7.666666666666666\\\\\n",
       " & x_{1} \\geq 0\\\\\n",
       " & x_{2} \\geq 0\\\\\n",
       " & θ \\geq -1000\\\\\n",
       " & x_{1} \\in \\mathbb{Z}\\\\\n",
       " & x_{2} \\in \\mathbb{Z}\\\\\n",
       "\\end{aligned} $$"
      ],
      "text/plain": [
       "$$ \\begin{aligned}\n",
       "\\min\\quad & x_{1} + 4 x_{2} + θ\\\\\n",
       "\\text{Subject to} \\quad & 2 x_{1} + 8 x_{2} + θ \\geq 7.666666666666666\\\\\n",
       " & x_{1} \\geq 0\\\\\n",
       " & x_{2} \\geq 0\\\\\n",
       " & θ \\geq -1000\\\\\n",
       " & x_{1} \\in \\mathbb{Z}\\\\\n",
       " & x_{2} \\in \\mathbb{Z}\\\\\n",
       "\\end{aligned} $$"
      ]
     },
     "metadata": {},
     "output_type": "display_data"
    }
   ],
   "source": [
    "latex_formulation(master)"
   ]
  },
  {
   "cell_type": "code",
   "execution_count": 169,
   "metadata": {},
   "outputs": [
    {
     "name": "stdout",
     "output_type": "stream",
     "text": [
      "Coefficient ranges:\n",
      "  Matrix [1e+00, 8e+00]\n",
      "  Cost   [1e+00, 4e+00]\n",
      "  Bound  [1e+03, 1e+03]\n",
      "  RHS    [8e+00, 8e+00]\n",
      "Presolving model\n",
      "1 rows, 3 cols, 3 nonzeros  0s\n",
      "1 rows, 2 cols, 2 nonzeros  0s\n",
      "1 rows, 2 cols, 2 nonzeros  0s\n",
      "\n",
      "Solving MIP model with:\n",
      "   1 rows\n",
      "   2 cols (0 binary, 1 integer, 0 implied int., 1 continuous)\n",
      "   2 nonzeros\n",
      "MIP-Timing:     0.00018 - starting analytic centre calculation\n",
      "\n",
      "Src: B => Branching; C => Central rounding; F => Feasibility pump; H => Heuristic; L => Sub-MIP;\n",
      "     P => Empty MIP; R => Randomized rounding; S => Solve LP; T => Evaluate node; U => Unbounded;\n",
      "     z => Trivial zero; l => Trivial lower; u => Trivial upper; p => Trivial point\n",
      "\n",
      "        Nodes      |    B&B Tree     |            Objective Bounds              |  Dynamic Constraints |       Work      \n",
      "Src  Proc. InQueue |  Leaves   Expl. | BestBound       BestSol              Gap |   Cuts   InLp Confl. | LpIters     Time\n",
      "\n",
      "         0       0         0   0.00%   -1000           inf                  inf        0      0      0         0     0.0s\n",
      " S       0       0         0 100.00%   -1000           -496             101.61%        0      0      0         0     0.0s\n",
      "         1       0         1 100.00%   -496            -496               0.00%        0      0      0         0     0.0s\n",
      "\n",
      "Solving report\n",
      "  Status            Optimal\n",
      "  Primal bound      -496\n",
      "  Dual bound        -496\n",
      "  Gap               0% (tolerance: 0.01%)\n",
      "  P-D integral      8.04399475186e-06\n",
      "  Solution status   feasible\n",
      "                    -496 (objective)\n",
      "                    0 (bound viol.)\n",
      "                    0 (int. viol.)\n",
      "                    0 (row viol.)\n",
      "  Timing            0.00 (total)\n",
      "                    0.00 (presolve)\n",
      "                    0.00 (solve)\n",
      "                    0.00 (postsolve)\n",
      "  Max sub-MIP depth 0\n",
      "  Nodes             1\n",
      "  Repair LPs        0 (0 feasible; 0 iterations)\n",
      "  LP iterations     0 (total)\n",
      "                    0 (strong br.)\n",
      "                    0 (separation)\n",
      "                    0 (heuristics)\n"
     ]
    }
   ],
   "source": [
    "optimize!(master)"
   ]
  },
  {
   "cell_type": "markdown",
   "metadata": {},
   "source": [
    "And obtain new guesses and lower bound:"
   ]
  },
  {
   "cell_type": "code",
   "execution_count": 170,
   "metadata": {},
   "outputs": [
    {
     "data": {
      "text/plain": [
       "2-element Vector{Float64}:\n",
       " 504.0\n",
       "   0.0"
      ]
     },
     "metadata": {},
     "output_type": "display_data"
    }
   ],
   "source": [
    "xk = value.(master[:x])"
   ]
  },
  {
   "cell_type": "code",
   "execution_count": 171,
   "metadata": {},
   "outputs": [
    {
     "data": {
      "text/plain": [
       "-496.0"
      ]
     },
     "metadata": {},
     "output_type": "display_data"
    }
   ],
   "source": [
    "LB = objective_value(master)"
   ]
  },
  {
   "cell_type": "markdown",
   "metadata": {},
   "source": [
    "We then repeat the above steps, fixing the master variable values into the subproblem:"
   ]
  },
  {
   "cell_type": "code",
   "execution_count": 172,
   "metadata": {},
   "outputs": [
    {
     "data": {
      "text/latex": [
       "$$ \\begin{aligned}\n",
       "\\min\\quad & 2 y_{1} + 3 y_{2}\\\\\n",
       "\\text{Subject to} \\quad & x_{1} - 3 x_{2} + y_{1} - 2 y_{2} \\leq -2\\\\\n",
       " & -x_{1} - 3 x_{2} - y_{1} - y_{2} \\leq -3\\\\\n",
       " & x_{1} = 504\\\\\n",
       " & x_{2} = 0\\\\\n",
       " & y_{1} \\geq 0\\\\\n",
       " & y_{2} \\geq 0\\\\\n",
       "\\end{aligned} $$"
      ],
      "text/plain": [
       "$$ \\begin{aligned}\n",
       "\\min\\quad & 2 y_{1} + 3 y_{2}\\\\\n",
       "\\text{Subject to} \\quad & x_{1} - 3 x_{2} + y_{1} - 2 y_{2} \\leq -2\\\\\n",
       " & -x_{1} - 3 x_{2} - y_{1} - y_{2} \\leq -3\\\\\n",
       " & x_{1} = 504\\\\\n",
       " & x_{2} = 0\\\\\n",
       " & y_{1} \\geq 0\\\\\n",
       " & y_{2} \\geq 0\\\\\n",
       "\\end{aligned} $$"
      ]
     },
     "metadata": {},
     "output_type": "display_data"
    }
   ],
   "source": [
    "fix.(subprob[:x],xk;force=true)\n",
    "latex_formulation(subprob)"
   ]
  },
  {
   "cell_type": "markdown",
   "metadata": {},
   "source": [
    "and solving the subproblem to obtain an upper bound:"
   ]
  },
  {
   "cell_type": "code",
   "execution_count": 173,
   "metadata": {},
   "outputs": [
    {
     "name": "stdout",
     "output_type": "stream",
     "text": [
      "Coefficient ranges:\n",
      "  Matrix [1e+00, 3e+00]\n",
      "  Cost   [2e+00, 3e+00]\n",
      "  Bound  [5e+02, 5e+02]\n",
      "  RHS    [2e+00, 3e+00]\n",
      "Solving LP without presolve, or with basis, or unconstrained\n",
      "Using EKK dual simplex solver - serial\n",
      "  Iteration        Objective     Infeasibilities num(sum)\n",
      "          0    -1.0003367438e+03 Pr: 1(502.667) 0s\n",
      "          1     7.5900000000e+02 Pr: 0(0) 0s\n",
      "Model status        : Optimal\n",
      "Simplex   iterations: 1\n",
      "Objective value     :  7.5900000000e+02\n",
      "Relative P-D gap    :  0.0000000000e+00\n",
      "HiGHS run time      :          0.00\n"
     ]
    }
   ],
   "source": [
    "optimize!(subprob)"
   ]
  },
  {
   "cell_type": "code",
   "execution_count": 174,
   "metadata": {},
   "outputs": [
    {
     "data": {
      "text/plain": [
       "7.666666666666666"
      ]
     },
     "metadata": {},
     "output_type": "display_data"
    }
   ],
   "source": [
    "UB = min(UB,f'*xk + objective_value(subprob))"
   ]
  },
  {
   "cell_type": "markdown",
   "metadata": {},
   "source": [
    "The current optimality gap is:"
   ]
  },
  {
   "cell_type": "code",
   "execution_count": 175,
   "metadata": {},
   "outputs": [
    {
     "data": {
      "text/plain": [
       "65.69565217391305"
      ]
     },
     "metadata": {},
     "output_type": "display_data"
    }
   ],
   "source": [
    "gap = (UB-LB)/abs(UB)"
   ]
  },
  {
   "cell_type": "markdown",
   "metadata": {},
   "source": [
    "We have reduced the optimality gap!"
   ]
  },
  {
   "cell_type": "markdown",
   "metadata": {},
   "source": [
    "Next, we compute a new optimality cut to be added to the master:"
   ]
  },
  {
   "cell_type": "code",
   "execution_count": 176,
   "metadata": {},
   "outputs": [
    {
     "data": {
      "text/plain": [
       "2-element Vector{Float64}:\n",
       "  1.5\n",
       " -4.5"
      ]
     },
     "metadata": {},
     "output_type": "display_data"
    }
   ],
   "source": [
    "λ = dual.(FixRef.(subprob[:x]))"
   ]
  },
  {
   "cell_type": "code",
   "execution_count": 177,
   "metadata": {},
   "outputs": [
    {
     "data": {
      "text/latex": [
       "$$ -1.5 x_{1} + 4.5 x_{2} + θ \\geq 3 $$"
      ],
      "text/plain": [
       "-1.5 x[1] + 4.5 x[2] + θ ≥ 3"
      ]
     },
     "metadata": {},
     "output_type": "display_data"
    }
   ],
   "source": [
    "@constraint(master, master[:θ] >= objective_value(subprob) + λ'*(master[:x]-xk))"
   ]
  },
  {
   "cell_type": "markdown",
   "metadata": {},
   "source": [
    "And we solve the updated master problem:"
   ]
  },
  {
   "cell_type": "code",
   "execution_count": 178,
   "metadata": {},
   "outputs": [
    {
     "data": {
      "text/latex": [
       "$$ \\begin{aligned}\n",
       "\\min\\quad & x_{1} + 4 x_{2} + θ\\\\\n",
       "\\text{Subject to} \\quad & 2 x_{1} + 8 x_{2} + θ \\geq 7.666666666666666\\\\\n",
       " & -1.5 x_{1} + 4.5 x_{2} + θ \\geq 3\\\\\n",
       " & x_{1} \\geq 0\\\\\n",
       " & x_{2} \\geq 0\\\\\n",
       " & θ \\geq -1000\\\\\n",
       " & x_{1} \\in \\mathbb{Z}\\\\\n",
       " & x_{2} \\in \\mathbb{Z}\\\\\n",
       "\\end{aligned} $$"
      ],
      "text/plain": [
       "$$ \\begin{aligned}\n",
       "\\min\\quad & x_{1} + 4 x_{2} + θ\\\\\n",
       "\\text{Subject to} \\quad & 2 x_{1} + 8 x_{2} + θ \\geq 7.666666666666666\\\\\n",
       " & -1.5 x_{1} + 4.5 x_{2} + θ \\geq 3\\\\\n",
       " & x_{1} \\geq 0\\\\\n",
       " & x_{2} \\geq 0\\\\\n",
       " & θ \\geq -1000\\\\\n",
       " & x_{1} \\in \\mathbb{Z}\\\\\n",
       " & x_{2} \\in \\mathbb{Z}\\\\\n",
       "\\end{aligned} $$"
      ]
     },
     "metadata": {},
     "output_type": "display_data"
    }
   ],
   "source": [
    "latex_formulation(master)"
   ]
  },
  {
   "cell_type": "code",
   "execution_count": 179,
   "metadata": {},
   "outputs": [
    {
     "name": "stdout",
     "output_type": "stream",
     "text": [
      "Coefficient ranges:\n",
      "  Matrix [1e+00, 8e+00]\n",
      "  Cost   [1e+00, 4e+00]\n",
      "  Bound  [1e+03, 1e+03]\n",
      "  RHS    [3e+00, 8e+00]\n",
      "Presolving model\n",
      "2 rows, 3 cols, 6 nonzeros  0s\n",
      "2 rows, 3 cols, 6 nonzeros  0s\n",
      "\n",
      "Solving MIP model with:\n",
      "   2 rows\n",
      "   3 cols (0 binary, 2 integer, 0 implied int., 1 continuous)\n",
      "   6 nonzeros\n",
      "MIP-Timing:     8.8e-05 - starting analytic centre calculation\n",
      "\n",
      "Src: B => Branching; C => Central rounding; F => Feasibility pump; H => Heuristic; L => Sub-MIP;\n",
      "     P => Empty MIP; R => Randomized rounding; S => Solve LP; T => Evaluate node; U => Unbounded;\n",
      "     z => Trivial zero; l => Trivial lower; u => Trivial upper; p => Trivial point\n",
      "\n",
      "        Nodes      |    B&B Tree     |            Objective Bounds              |  Dynamic Constraints |       Work      \n",
      "Src  Proc. InQueue |  Leaves   Expl. | BestBound       BestSol              Gap |   Cuts   InLp Confl. | LpIters     Time\n",
      "\n",
      "         0       0         0   0.00%   -1000           inf                  inf        0      0      0         0     0.0s\n",
      " S       0       0         0   0.00%   -1000           -108             825.93%        0      0      0         0     0.0s\n",
      "\n",
      "50.0% inactive integer columns, restarting\n",
      "Model after restart has 2 rows, 2 cols (0 bin., 1 int., 0 impl., 1 cont.), and 4 nonzeros\n",
      "\n",
      "MIP-Timing:      0.0009 - starting analytic centre calculation\n",
      "         0       0         0   0.00%   -108.4444444    -108               0.41%        0      0      0         2     0.0s\n",
      "         0       0         0   0.00%   -108.4444444    -108               0.41%        0      0      0         2     0.0s\n",
      "         1       0         1 100.00%   -108            -108               0.00%        2      1      0         3     0.0s\n",
      "\n",
      "Solving report\n",
      "  Status            Optimal\n",
      "  Primal bound      -108\n",
      "  Dual bound        -108\n",
      "  Gap               0% (tolerance: 0.01%)\n",
      "  P-D integral      7.1678349318e-05\n",
      "  Solution status   feasible\n",
      "                    -108 (objective)\n",
      "                    0 (bound viol.)\n",
      "                    0 (int. viol.)\n",
      "                    0 (row viol.)\n",
      "  Timing            0.00 (total)\n",
      "                    0.00 (presolve)\n",
      "                    0.00 (solve)\n",
      "                    0.00 (postsolve)\n",
      "  Max sub-MIP depth 0\n",
      "  Nodes             1\n",
      "  Repair LPs        0 (0 feasible; 0 iterations)\n",
      "  LP iterations     3 (total)\n",
      "                    0 (strong br.)\n",
      "                    1 (separation)\n",
      "                    0 (heuristics)\n"
     ]
    }
   ],
   "source": [
    "optimize!(master)"
   ]
  },
  {
   "cell_type": "markdown",
   "metadata": {},
   "source": [
    "The new lower bound is:"
   ]
  },
  {
   "cell_type": "code",
   "execution_count": 180,
   "metadata": {},
   "outputs": [
    {
     "data": {
      "text/plain": [
       "-108.0"
      ]
     },
     "metadata": {},
     "output_type": "display_data"
    }
   ],
   "source": [
    "LB = objective_value(master)"
   ]
  },
  {
   "cell_type": "markdown",
   "metadata": {},
   "source": [
    "and solving the subproblem for the new guess gives:"
   ]
  },
  {
   "cell_type": "code",
   "execution_count": 181,
   "metadata": {},
   "outputs": [
    {
     "data": {
      "text/latex": [
       "$$ \\begin{aligned}\n",
       "\\min\\quad & 2 y_{1} + 3 y_{2}\\\\\n",
       "\\text{Subject to} \\quad & x_{1} - 3 x_{2} + y_{1} - 2 y_{2} \\leq -2\\\\\n",
       " & -x_{1} - 3 x_{2} - y_{1} - y_{2} \\leq -3\\\\\n",
       " & x_{1} = 0\\\\\n",
       " & x_{2} = 223\\\\\n",
       " & y_{1} \\geq 0\\\\\n",
       " & y_{2} \\geq 0\\\\\n",
       "\\end{aligned} $$"
      ],
      "text/plain": [
       "$$ \\begin{aligned}\n",
       "\\min\\quad & 2 y_{1} + 3 y_{2}\\\\\n",
       "\\text{Subject to} \\quad & x_{1} - 3 x_{2} + y_{1} - 2 y_{2} \\leq -2\\\\\n",
       " & -x_{1} - 3 x_{2} - y_{1} - y_{2} \\leq -3\\\\\n",
       " & x_{1} = 0\\\\\n",
       " & x_{2} = 223\\\\\n",
       " & y_{1} \\geq 0\\\\\n",
       " & y_{2} \\geq 0\\\\\n",
       "\\end{aligned} $$"
      ]
     },
     "metadata": {},
     "output_type": "display_data"
    }
   ],
   "source": [
    "xk = value.(master[:x])\n",
    "fix.(subprob[:x],xk;force=true)\n",
    "latex_formulation(subprob)"
   ]
  },
  {
   "cell_type": "code",
   "execution_count": 182,
   "metadata": {},
   "outputs": [
    {
     "name": "stdout",
     "output_type": "stream",
     "text": [
      "Coefficient ranges:\n",
      "  Matrix [1e+00, 3e+00]\n",
      "  Cost   [2e+00, 3e+00]\n",
      "  Bound  [2e+02, 2e+02]\n",
      "  RHS    [2e+00, 3e+00]\n",
      "Solving LP without presolve, or with basis, or unconstrained\n",
      "Using EKK dual simplex solver - serial\n",
      "  Iteration        Objective     Infeasibilities num(sum)\n",
      "          0    -1.0005037380e+03 Pr: 1(333.5) 0s\n",
      "          1     0.0000000000e+00 Pr: 0(0) 0s\n",
      "Model status        : Optimal\n",
      "Simplex   iterations: 1\n",
      "Objective value     :  0.0000000000e+00\n",
      "Relative P-D gap    :  0.0000000000e+00\n",
      "HiGHS run time      :          0.00\n"
     ]
    }
   ],
   "source": [
    "optimize!(subprob)"
   ]
  },
  {
   "cell_type": "code",
   "execution_count": 183,
   "metadata": {},
   "outputs": [
    {
     "data": {
      "text/plain": [
       "7.666666666666666"
      ]
     },
     "metadata": {},
     "output_type": "display_data"
    }
   ],
   "source": [
    "UB= min(UB,f'*xk + objective_value(subprob))"
   ]
  },
  {
   "cell_type": "markdown",
   "metadata": {},
   "source": [
    "Resulting in an optimality gap:"
   ]
  },
  {
   "cell_type": "code",
   "execution_count": 184,
   "metadata": {},
   "outputs": [
    {
     "data": {
      "text/plain": [
       "15.086956521739133"
      ]
     },
     "metadata": {},
     "output_type": "display_data"
    }
   ],
   "source": [
    "gap = (UB-LB)/UB"
   ]
  },
  {
   "cell_type": "markdown",
   "metadata": {},
   "source": [
    "Because the gap is still wide, we keep iterating and compute new cuts to be added to the master:"
   ]
  },
  {
   "cell_type": "code",
   "execution_count": 185,
   "metadata": {},
   "outputs": [
    {
     "data": {
      "text/plain": [
       "2-element Vector{Float64}:\n",
       " 0.0\n",
       " 0.0"
      ]
     },
     "metadata": {},
     "output_type": "display_data"
    }
   ],
   "source": [
    "λ = dual.(FixRef.(subprob[:x]))"
   ]
  },
  {
   "cell_type": "code",
   "execution_count": 186,
   "metadata": {},
   "outputs": [
    {
     "data": {
      "text/latex": [
       "$$ θ \\geq 0 $$"
      ],
      "text/plain": [
       "θ ≥ 0"
      ]
     },
     "metadata": {},
     "output_type": "display_data"
    }
   ],
   "source": [
    "@constraint(master, master[:θ] >= objective_value(subprob) + λ'*(master[:x]-xk))"
   ]
  },
  {
   "cell_type": "markdown",
   "metadata": {},
   "source": [
    "We repeat the previous steps once again:"
   ]
  },
  {
   "cell_type": "code",
   "execution_count": 187,
   "metadata": {},
   "outputs": [
    {
     "name": "stdout",
     "output_type": "stream",
     "text": [
      "Coefficient ranges:\n",
      "  Matrix [1e+00, 8e+00]\n",
      "  Cost   [1e+00, 4e+00]\n",
      "  Bound  [1e+03, 1e+03]\n",
      "  RHS    [3e+00, 8e+00]\n",
      "Presolving model\n",
      "2 rows, 3 cols, 6 nonzeros  0s\n",
      "2 rows, 3 cols, 6 nonzeros  0s\n",
      "\n",
      "Solving MIP model with:\n",
      "   2 rows\n",
      "   3 cols (0 binary, 2 integer, 0 implied int., 1 continuous)\n",
      "   6 nonzeros\n",
      "MIP-Timing:     0.00011 - starting analytic centre calculation\n",
      "\n",
      "Src: B => Branching; C => Central rounding; F => Feasibility pump; H => Heuristic; L => Sub-MIP;\n",
      "     P => Empty MIP; R => Randomized rounding; S => Solve LP; T => Evaluate node; U => Unbounded;\n",
      "     z => Trivial zero; l => Trivial lower; u => Trivial upper; p => Trivial point\n",
      "\n",
      "        Nodes      |    B&B Tree     |            Objective Bounds              |  Dynamic Constraints |       Work      \n",
      "Src  Proc. InQueue |  Leaves   Expl. | BestBound       BestSol              Gap |   Cuts   InLp Confl. | LpIters     Time\n",
      "\n",
      "         0       0         0   0.00%   0               inf                  inf        0      0      0         0     0.0s\n",
      " R       0       0         0   0.00%   3.975609756     5                 20.49%        0      0      0         2     0.0s\n",
      " C       0       0         0   0.00%   4               4                  0.00%        0      0      0         3     0.0s\n",
      "         1       0         1 100.00%   4               4                  0.00%        0      0      0         3     0.0s\n",
      "\n",
      "Solving report\n",
      "  Status            Optimal\n",
      "  Primal bound      4\n",
      "  Dual bound        4\n",
      "  Gap               0% (tolerance: 0.01%)\n",
      "  P-D integral      8.73000688976e-05\n",
      "  Solution status   feasible\n",
      "                    4 (objective)\n",
      "                    0 (bound viol.)\n",
      "                    0 (int. viol.)\n",
      "                    0 (row viol.)\n",
      "  Timing            0.00 (total)\n",
      "                    0.00 (presolve)\n",
      "                    0.00 (solve)\n",
      "                    0.00 (postsolve)\n",
      "  Max sub-MIP depth 0\n",
      "  Nodes             1\n",
      "  Repair LPs        0 (0 feasible; 0 iterations)\n",
      "  LP iterations     3 (total)\n",
      "                    0 (strong br.)\n",
      "                    1 (separation)\n",
      "                    0 (heuristics)\n"
     ]
    }
   ],
   "source": [
    "optimize!(master)"
   ]
  },
  {
   "cell_type": "code",
   "execution_count": 188,
   "metadata": {},
   "outputs": [
    {
     "data": {
      "text/plain": [
       "4.0"
      ]
     },
     "metadata": {},
     "output_type": "display_data"
    }
   ],
   "source": [
    "LB = objective_value(master)"
   ]
  },
  {
   "cell_type": "code",
   "execution_count": 189,
   "metadata": {},
   "outputs": [
    {
     "data": {
      "text/plain": [
       "2-element Vector{Float64}:\n",
       " 0.0\n",
       " 1.0"
      ]
     },
     "metadata": {},
     "output_type": "display_data"
    }
   ],
   "source": [
    "xk = value.(master[:x])"
   ]
  },
  {
   "cell_type": "code",
   "execution_count": 190,
   "metadata": {},
   "outputs": [
    {
     "data": {
      "text/latex": [
       "$$ \\begin{aligned}\n",
       "\\min\\quad & 2 y_{1} + 3 y_{2}\\\\\n",
       "\\text{Subject to} \\quad & x_{1} - 3 x_{2} + y_{1} - 2 y_{2} \\leq -2\\\\\n",
       " & -x_{1} - 3 x_{2} - y_{1} - y_{2} \\leq -3\\\\\n",
       " & x_{1} = 0\\\\\n",
       " & x_{2} = 1\\\\\n",
       " & y_{1} \\geq 0\\\\\n",
       " & y_{2} \\geq 0\\\\\n",
       "\\end{aligned} $$"
      ],
      "text/plain": [
       "$$ \\begin{aligned}\n",
       "\\min\\quad & 2 y_{1} + 3 y_{2}\\\\\n",
       "\\text{Subject to} \\quad & x_{1} - 3 x_{2} + y_{1} - 2 y_{2} \\leq -2\\\\\n",
       " & -x_{1} - 3 x_{2} - y_{1} - y_{2} \\leq -3\\\\\n",
       " & x_{1} = 0\\\\\n",
       " & x_{2} = 1\\\\\n",
       " & y_{1} \\geq 0\\\\\n",
       " & y_{2} \\geq 0\\\\\n",
       "\\end{aligned} $$"
      ]
     },
     "metadata": {},
     "output_type": "display_data"
    }
   ],
   "source": [
    "fix.(subprob[:x],xk;force=true)\n",
    "latex_formulation(subprob)"
   ]
  },
  {
   "cell_type": "code",
   "execution_count": 191,
   "metadata": {},
   "outputs": [
    {
     "name": "stdout",
     "output_type": "stream",
     "text": [
      "Coefficient ranges:\n",
      "  Matrix [1e+00, 3e+00]\n",
      "  Cost   [2e+00, 3e+00]\n",
      "  Bound  [1e+00, 1e+00]\n",
      "  RHS    [2e+00, 3e+00]\n",
      "Solving LP without presolve, or with basis, or unconstrained\n",
      "Model status        : Optimal\n",
      "Objective value     :  0.0000000000e+00\n",
      "Relative P-D gap    :  0.0000000000e+00\n",
      "HiGHS run time      :          0.00\n"
     ]
    }
   ],
   "source": [
    "optimize!(subprob)"
   ]
  },
  {
   "cell_type": "markdown",
   "metadata": {},
   "source": [
    "The best upper bound now is:"
   ]
  },
  {
   "cell_type": "code",
   "execution_count": 192,
   "metadata": {},
   "outputs": [
    {
     "data": {
      "text/plain": [
       "4.0"
      ]
     },
     "metadata": {},
     "output_type": "display_data"
    }
   ],
   "source": [
    "UB= min(UB,f'*xk + objective_value(subprob))"
   ]
  },
  {
   "cell_type": "markdown",
   "metadata": {},
   "source": [
    "Let's check the gap:"
   ]
  },
  {
   "cell_type": "code",
   "execution_count": 193,
   "metadata": {},
   "outputs": [
    {
     "data": {
      "text/plain": [
       "0.0"
      ]
     },
     "metadata": {},
     "output_type": "display_data"
    }
   ],
   "source": [
    "gap = (UB-LB)/UB"
   ]
  },
  {
   "cell_type": "markdown",
   "metadata": {},
   "source": [
    "Zero optimality gap! We have converged to a solution of our MILP, which coincides with the one obtained solving the monolithic model:"
   ]
  },
  {
   "cell_type": "code",
   "execution_count": 194,
   "metadata": {},
   "outputs": [
    {
     "data": {
      "text/plain": [
       "2-element Vector{Float64}:\n",
       " 0.0\n",
       " 1.0"
      ]
     },
     "metadata": {},
     "output_type": "display_data"
    }
   ],
   "source": [
    "xk"
   ]
  },
  {
   "cell_type": "code",
   "execution_count": 195,
   "metadata": {},
   "outputs": [
    {
     "data": {
      "text/plain": [
       "2-element Vector{Float64}:\n",
       " 0.0\n",
       " 1.0"
      ]
     },
     "metadata": {},
     "output_type": "display_data"
    }
   ],
   "source": [
    "value.(monolithic_model[:x])"
   ]
  },
  {
   "cell_type": "markdown",
   "metadata": {},
   "source": [
    "Note that in general the two solutions need not be the same, but they will correspond to the same objective function value."
   ]
  },
  {
   "cell_type": "markdown",
   "metadata": {},
   "source": []
  }
 ],
 "metadata": {
  "kernelspec": {
   "display_name": "Julia 1.11.1",
   "language": "julia",
   "name": "julia-1.11"
  },
  "language_info": {
   "file_extension": ".jl",
   "mimetype": "application/julia",
   "name": "julia",
   "version": "1.11.1"
  }
 },
 "nbformat": 4,
 "nbformat_minor": 2
}
