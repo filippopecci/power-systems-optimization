{
 "cells": [
  {
   "cell_type": "markdown",
   "metadata": {},
   "source": [
    "# Solving a Complex Capacity Expansion Model with Benders decomposition\n",
    "\n",
    "_**[Power Systems Optimization](https://github.com/east-winds/power-systems-optimization)**_\n",
    "\n",
    "We demonstrate the application of Benders Decomposition to solve the capacity expansion model illustrated in [Complex Capacity Expanion](07-Complex-Capacity-Expansion.ipynb).\n",
    "\n",
    "In the `complex_expansion_data/` path, we provide several different sets of inputs using different sample time periods, for your use and experimentation, including 10 days (used as default below), 4 weeks, 8 weeks, 16 weeks, and 52 weeks (full 8760 hours). Alter the `inputs_path` parameter below to select a different time series if desired."
   ]
  },
  {
   "cell_type": "markdown",
   "metadata": {},
   "source": [
    "## LOAD PACKAGES"
   ]
  },
  {
   "cell_type": "code",
   "execution_count": null,
   "metadata": {},
   "outputs": [
    {
     "name": "stderr",
     "output_type": "stream",
     "text": [
      "\u001b[32m\u001b[1m  Activating\u001b[22m\u001b[39m project at `~/Code/power-systems-optimization`\n"
     ]
    },
    {
     "data": {
      "text/plain": [
       "print_iteration (generic function with 1 method)"
      ]
     },
     "metadata": {},
     "output_type": "display_data"
    }
   ],
   "source": [
    "# Ensure these packages are installed; if not, use the Pkg package and Pkg.add() function to install\n",
    "using Pkg; Pkg.activate(dirname(@__DIR__))\n",
    "\n",
    "using JuMP\n",
    "using HiGHS\n",
    "using Plots\n",
    "using DataFrames, CSV\n",
    "import Printf\n",
    "\n",
    "include(\"benders_cems.jl\")"
   ]
  },
  {
   "cell_type": "markdown",
   "metadata": {},
   "source": [
    "## SELECT INPUTS PATH"
   ]
  },
  {
   "cell_type": "code",
   "execution_count": 2,
   "metadata": {},
   "outputs": [
    {
     "data": {
      "text/plain": [
       "\"complex_expansion_data/10_days/\""
      ]
     },
     "metadata": {},
     "output_type": "display_data"
    }
   ],
   "source": [
    "# Read input data for a case with 10 sample days of data\n",
    "inputs_path = \"complex_expansion_data/10_days/\"\n"
   ]
  },
  {
   "cell_type": "markdown",
   "metadata": {},
   "source": [
    "## LOAD INPUTS"
   ]
  },
  {
   "cell_type": "code",
   "execution_count": 3,
   "metadata": {},
   "outputs": [],
   "source": [
    "inputs = load_inputs(inputs_path);"
   ]
  },
  {
   "cell_type": "markdown",
   "metadata": {},
   "source": [
    "Scale inputs to improve numerics:"
   ]
  },
  {
   "cell_type": "code",
   "execution_count": 4,
   "metadata": {},
   "outputs": [],
   "source": [
    "\n",
    "    scaling!(inputs)"
   ]
  },
  {
   "cell_type": "markdown",
   "metadata": {},
   "source": [
    "## GENERATE MONOLITHIC MODEL"
   ]
  },
  {
   "cell_type": "code",
   "execution_count": 5,
   "metadata": {},
   "outputs": [
    {
     "data": {
      "text/plain": [
       "A JuMP Model\n",
       "├ solver: HiGHS\n",
       "├ objective_sense: MIN_SENSE\n",
       "│ └ objective_function_type: AffExpr\n",
       "├ num_variables: 15956\n",
       "├ num_constraints: 58279\n",
       "│ ├ AffExpr in MOI.EqualTo{Float64}: 1497\n",
       "│ ├ AffExpr in MOI.GreaterThan{Float64}: 480\n",
       "│ ├ AffExpr in MOI.LessThan{Float64}: 40800\n",
       "│ ├ VariableRef in MOI.GreaterThan{Float64}: 15476\n",
       "│ └ VariableRef in MOI.LessThan{Float64}: 26\n",
       "└ Names registered in the model\n",
       "  └ :cCapEnergyNew, :cCapEnergyOld, :cCapNew, :cCapOld, :cDemandBalance, :cMaxCharge, :cMaxFlow, :cMaxNSE, :cMaxPower, :cMaxSOC, :cMinFlow, :cRampDown, :cRampDownWrap, :cRampUp, :cRampUpWrap, :cSOC, :cSOCWrap, :cTransCap, :eFixedCostsGeneration, :eFixedCostsStorage, :eFixedCostsTransmission, :eNSECosts, :eVariableCosts, :vCAP, :vCHARGE, :vE_CAP, :vFLOW, :vGEN, :vNEW_CAP, :vNEW_E_CAP, :vNEW_T_CAP, :vNSE, :vRET_CAP, :vRET_E_CAP, :vRET_T_CAP, :vSOC, :vT_CAP"
      ]
     },
     "metadata": {},
     "output_type": "display_data"
    }
   ],
   "source": [
    "Expansion_Model = generate_monolithic_model(inputs)"
   ]
  },
  {
   "cell_type": "markdown",
   "metadata": {},
   "source": [
    "### RUN MODEL"
   ]
  },
  {
   "cell_type": "code",
   "execution_count": 6,
   "metadata": {},
   "outputs": [
    {
     "name": "stdout",
     "output_type": "stream",
     "text": [
      "Running HiGHS 1.8.1 (git hash: 4a7f24ac6): Copyright (c) 2024 HiGHS under MIT licence terms\n",
      "Coefficient ranges:\n",
      "  Matrix [1e-04, 4e+00]\n",
      "  Cost   [1e-02, 6e+02]\n",
      "  Bound  [8e-01, 9e+01]\n",
      "  RHS    [4e-03, 4e+04]\n",
      "Presolving model\n",
      "37442 rows, 14141 cols, 110872 nonzeros  0s\n",
      "37438 rows, 14141 cols, 110864 nonzeros  0s\n",
      "Presolve : Reductions: rows 37438(-5339); columns 14141(-1815); elements 110864(-12532)\n",
      "Solving the presolved LP\n",
      "IPX model has 37438 rows, 14141 columns and 110864 nonzeros\n",
      "Input\n",
      "    Number of variables:                                14141\n",
      "    Number of free variables:                           480\n",
      "    Number of constraints:                              37438\n",
      "    Number of equality constraints:                     1442\n",
      "    Number of matrix entries:                           110864\n",
      "    Matrix range:                                       [1e-04, 4e+00]\n",
      "    RHS range:                                          [4e-03, 9e+01]\n",
      "    Objective range:                                    [1e-02, 6e+02]\n",
      "    Bounds range:                                       [2e-01, 4e+04]\n",
      "Preprocessing\n",
      "    Dualized model:                                     yes\n",
      "    Number of dense columns:                            0\n",
      "    Range of scaling factors:                           [1.00e+00, 1.00e+00]\n",
      "IPX version 1.0\n",
      "Interior point solve\n",
      " Iter     P.res    D.res            P.obj           D.obj        mu     Time\n",
      "   0   6.89e+02 1.57e+01  -1.80053922e+06 -1.62607336e+06  9.79e+03       0s\n",
      "   1   1.15e+02 1.01e+01   4.05068041e+06 -9.70780531e+05  2.64e+03       0s\n",
      "   2   7.38e+01 8.42e+00   5.20441420e+06 -8.40829188e+05  2.09e+03       0s\n",
      " Constructing starting basis...\n",
      "   3   3.32e+01 6.76e+00   6.33254438e+06 -7.17735190e+05  1.41e+03       0s\n",
      "   4   2.05e+01 4.29e+00   5.63826624e+06 -5.94758435e+05  9.35e+02       0s\n",
      "   5   1.02e+01 3.16e+00   4.39869823e+06 -5.55845059e+05  5.73e+02       0s\n",
      "   6   1.58e+00 4.43e-01   1.99019751e+06 -3.31589405e+05  1.10e+02       0s\n",
      "   7   6.39e-01 7.09e-03   9.12174111e+05 -1.66395862e+05  3.75e+01       1s\n",
      "   8   3.12e-01 3.79e-03   6.33443983e+05 -1.95069494e+05  2.61e+01       1s\n",
      "   9   5.45e-02 4.67e-04   1.46580471e+05 -1.43820384e+05  7.22e+00       1s\n",
      "  10   2.17e-02 2.25e-04   7.22739537e+04 -1.13218304e+05  4.18e+00       1s\n",
      "  11   1.16e-02 2.04e-04   6.45694246e+04 -1.07348665e+05  3.67e+00       1s\n",
      "  12   7.39e-03 1.70e-04   4.97442199e+04 -9.77597194e+04  3.08e+00       1s\n",
      "  13   2.81e-03 1.50e-04   3.00521528e+04 -8.98572588e+04  2.43e+00       1s\n",
      "  14   1.80e-03 1.21e-04   2.00661693e+04 -7.61611172e+04  1.93e+00       1s\n",
      "  15   5.80e-04 5.75e-05   3.50440484e+03 -4.78672973e+04  1.02e+00       1s\n",
      "  16   2.58e-04 3.64e-05  -7.27354600e+02 -3.83077755e+04  7.45e-01       1s\n",
      "  17   1.41e-04 1.96e-05  -4.15856104e+03 -2.75750384e+04  4.64e-01       1s\n",
      "  18   6.59e-05 5.59e-06  -5.71188683e+03 -2.08687039e+04  3.00e-01       1s\n",
      "  19   4.43e-05 1.99e-06  -6.63397124e+03 -1.71250888e+04  2.07e-01       1s\n",
      "  20   3.14e-05 1.52e-06  -7.23697313e+03 -1.66284889e+04  1.86e-01       1s\n",
      "  21   2.47e-05 1.24e-06  -7.55536860e+03 -1.62538272e+04  1.72e-01       1s\n",
      "  22   1.75e-05 8.31e-07  -8.10943210e+03 -1.48673688e+04  1.34e-01       1s\n",
      "  23   1.00e-05 4.60e-07  -8.71934041e+03 -1.35737272e+04  9.59e-02       1s\n",
      "  24   7.44e-06 2.93e-07  -8.89762042e+03 -1.30644673e+04  8.23e-02       1s\n",
      "  25   4.43e-06 1.62e-07  -9.15371628e+03 -1.24711401e+04  6.55e-02       1s\n",
      "  26   2.74e-06 1.12e-07  -9.28642704e+03 -1.20238640e+04  5.41e-02       2s\n",
      "  27   2.10e-06 7.12e-08  -9.35513092e+03 -1.16348090e+04  4.50e-02       2s\n",
      "  28   1.73e-06 5.72e-08  -9.40875084e+03 -1.15218046e+04  4.17e-02       2s\n",
      "  29   1.17e-06 3.43e-08  -9.52253184e+03 -1.10948166e+04  3.10e-02       2s\n",
      "  30   7.21e-07 1.57e-08  -9.62224517e+03 -1.07388397e+04  2.20e-02       2s\n",
      "  31   5.39e-07 1.24e-08  -9.66954342e+03 -1.06554488e+04  1.95e-02       2s\n",
      "  32   3.44e-07 1.13e-08  -9.72911275e+03 -1.06153756e+04  1.75e-02       2s\n",
      "  33   1.72e-07 5.51e-09  -9.78012359e+03 -1.04276623e+04  1.28e-02       2s\n",
      "  34   9.95e-08 4.18e-09  -9.82040820e+03 -1.03430729e+04  1.03e-02       2s\n",
      "  35   5.95e-08 2.50e-09  -9.83646692e+03 -1.02550004e+04  8.26e-03       2s\n",
      "  36   3.22e-08 1.26e-09  -9.85799385e+03 -1.01422705e+04  5.61e-03       2s\n",
      "  37   2.37e-08 8.33e-10  -9.86561365e+03 -1.00967923e+04  4.56e-03       2s\n",
      "  38   1.48e-08 3.81e-10  -9.87718080e+03 -1.00252558e+04  2.92e-03       2s\n",
      "  39   1.19e-08 2.30e-10  -9.88090698e+03 -1.00014053e+04  2.38e-03       2s\n",
      "  40   7.53e-09 8.76e-11  -9.88870656e+03 -9.96090517e+03  1.43e-03       2s\n",
      "  41   6.22e-09 6.47e-11  -9.89070740e+03 -9.95729710e+03  1.31e-03       2s\n",
      "  42   3.28e-09 4.03e-11  -9.89800988e+03 -9.94176697e+03  8.64e-04       2s\n",
      "  43   2.01e-09 2.85e-11  -9.90039774e+03 -9.93767174e+03  7.36e-04       2s\n",
      "  44   1.60e-09 2.21e-11  -9.90148804e+03 -9.93335741e+03  6.29e-04       2s\n",
      "  45   9.29e-10 8.67e-12  -9.90365323e+03 -9.92181281e+03  3.58e-04       3s\n",
      "  46   5.26e-10 6.04e-12  -9.90514664e+03 -9.91873176e+03  2.68e-04       3s\n",
      "  47   3.51e-10 2.46e-12  -9.90583471e+03 -9.91428847e+03  1.67e-04       3s\n",
      "  48   1.69e-10 9.69e-13  -9.90666279e+03 -9.91156098e+03  9.67e-05       3s\n",
      "  49   2.09e-11 1.59e-12  -9.90740324e+03 -9.91056883e+03  6.25e-05       3s\n",
      "  50   1.96e-11 7.83e-13  -9.90742087e+03 -9.91035490e+03  5.79e-05       3s\n",
      "  51   8.19e-12 1.93e-12  -9.90755406e+03 -9.90949119e+03  3.82e-05       3s\n",
      "  52   1.82e-12 1.85e-12  -9.90770869e+03 -9.90905112e+03  2.65e-05       3s\n",
      "  53   1.82e-12 4.14e-12  -9.90771522e+03 -9.90904660e+03  2.63e-05       3s\n",
      "  54   1.82e-12 3.94e-12  -9.90772414e+03 -9.90879029e+03  2.10e-05       3s\n",
      "  55   1.14e-12 5.97e-13  -9.90776833e+03 -9.90834484e+03  1.14e-05       3s\n",
      "  56   1.01e-12 6.45e-13  -9.90780231e+03 -9.90814481e+03  6.76e-06       3s\n",
      "  57   6.82e-13 1.42e-12  -9.90781539e+03 -9.90805433e+03  4.72e-06       3s\n",
      "  58   9.09e-13 3.55e-12  -9.90785816e+03 -9.90798965e+03  2.60e-06       3s\n",
      "  59   4.89e-13 3.18e-12  -9.90787937e+03 -9.90792805e+03  9.61e-07       3s\n",
      "  60   9.09e-13 5.23e-12  -9.90787989e+03 -9.90791665e+03  7.26e-07       3s\n",
      "  61   4.69e-13 4.06e-12  -9.90788343e+03 -9.90790238e+03  3.74e-07       3s\n",
      "  62   6.03e-13 1.52e-12  -9.90788331e+03 -9.90789944e+03  3.19e-07       3s\n",
      "  63   8.14e-13 2.23e-12  -9.90788335e+03 -9.90789104e+03  1.52e-07       3s\n",
      "  64   5.30e-13 1.18e-12  -9.90788411e+03 -9.90788811e+03  7.91e-08       3s\n",
      "  65   1.22e-12 3.02e-12  -9.90788455e+03 -9.90788541e+03  1.70e-08       3s\n",
      "  66   4.89e-13 2.77e-12  -9.90788459e+03 -9.90788469e+03  2.06e-09       3s\n",
      "  67*  4.55e-13 1.01e-12  -9.90788459e+03 -9.90788461e+03  5.10e-10       3s\n",
      "Running crossover as requested\n",
      "    Primal residual before push phase:                  2.70e-06\n",
      "    Dual residual before push phase:                    5.40e-07\n",
      "    Number of dual pushes required:                     222\n",
      "    Number of primal pushes required:                   29301\n",
      "Summary\n",
      "    Runtime:                                            3.25s\n",
      "    Status interior point solve:                        optimal\n",
      "    Status crossover:                                   optimal\n",
      "    objective value:                                    9.90788461e+03\n",
      "    interior solution primal residual (abs/rel):        2.56e-10 / 6.97e-15\n",
      "    interior solution dual residual (abs/rel):          6.69e-10 / 1.05e-12\n",
      "    interior solution objective gap (abs/rel):          2.58e-05 / 2.60e-09\n",
      "    basic solution primal infeasibility:                3.55e-15\n",
      "    basic solution dual infeasibility:                  2.60e-16\n",
      "Ipx: IPM       optimal\n",
      "Ipx: Crossover optimal\n",
      "Solving the original LP from the solution after postsolve\n",
      "Model status        : Optimal\n",
      "IPM       iterations: 67\n",
      "Crossover iterations: 7905\n",
      "Objective value     :  9.9078845861e+03\n",
      "Relative P-D gap    :  9.1795044024e-16\n",
      "HiGHS run time      :          3.29\n",
      "  3.423313 seconds (897.01 k allocations: 50.762 MiB, 0.38% gc time, 2.23% compilation time: 86% of which was recompilation)\n"
     ]
    }
   ],
   "source": [
    "@time optimize!(Expansion_Model)"
   ]
  },
  {
   "cell_type": "markdown",
   "metadata": {},
   "source": [
    "## GENERATE PLANNING MODEL"
   ]
  },
  {
   "cell_type": "code",
   "execution_count": 7,
   "metadata": {},
   "outputs": [],
   "source": [
    "planning_model = generate_planning_model(inputs);"
   ]
  },
  {
   "cell_type": "markdown",
   "metadata": {},
   "source": [
    "## GENERATE OPERATION MODELS"
   ]
  },
  {
   "cell_type": "code",
   "execution_count": 8,
   "metadata": {},
   "outputs": [],
   "source": [
    "operation_models = generate_decomposed_operation_models(inputs);"
   ]
  },
  {
   "cell_type": "code",
   "execution_count": 9,
   "metadata": {},
   "outputs": [
    {
     "name": "stdout",
     "output_type": "stream",
     "text": [
      "Iteration  Lower Bound  Upper Bound          Gap\n",
      "        1   0.0000e+00   3.8163e+06          Inf\n",
      "        2   4.9144e+02   3.5552e+06   7.2333e+03\n",
      "        3   5.8966e+02   4.4835e+04   7.5036e+01\n",
      "        4   8.3687e+02   4.2195e+04   4.9420e+01\n",
      "        5   1.4867e+03   1.7511e+04   1.0779e+01\n",
      "        6   4.8120e+03   1.7511e+04   2.6390e+00\n",
      "        7   4.8819e+03   1.7511e+04   2.5869e+00\n",
      "        8   4.9457e+03   1.7511e+04   2.5407e+00\n",
      "        9   5.6965e+03   1.3259e+04   1.3276e+00\n",
      "       10   5.9492e+03   1.3259e+04   1.2288e+00\n",
      "       11   7.0844e+03   1.0938e+04   5.4397e-01\n",
      "       12   8.2119e+03   1.0938e+04   3.3198e-01\n",
      "       13   8.9282e+03   1.0938e+04   2.2512e-01\n",
      "       14   9.0843e+03   1.0768e+04   1.8530e-01\n",
      "       15   9.2946e+03   1.0151e+04   9.2093e-02\n",
      "       16   9.6568e+03   1.0043e+04   3.9958e-02\n",
      "       17   9.7195e+03   1.0043e+04   3.3257e-02\n",
      "       18   9.7400e+03   1.0043e+04   3.1079e-02\n",
      "       19   9.7711e+03   1.0034e+04   2.6866e-02\n",
      "       20   9.7993e+03   1.0034e+04   2.3909e-02\n",
      "       21   9.8185e+03   1.0002e+04   1.8688e-02\n",
      "       22   9.8306e+03   1.0002e+04   1.7440e-02\n",
      "       23   9.8354e+03   9.9171e+03   8.3030e-03\n",
      "       24   9.8510e+03   9.8925e+03   4.2110e-03\n",
      "       25   9.8650e+03   9.8925e+03   2.7929e-03\n",
      "       26   9.8695e+03   9.8925e+03   2.3351e-03\n",
      "       27   9.8850e+03   9.8925e+03   7.6278e-04\n",
      "  9.890974 seconds (9.16 M allocations: 477.695 MiB, 0.49% gc time, 10.52% compilation time: 3% of which was recompilation)\n"
     ]
    },
    {
     "name": "stderr",
     "output_type": "stream",
     "text": [
      "┌ Info: Convergence tolerance satisfied!\n",
      "└ @ Main /Users/fpecci/Code/power-systems-optimization/Notebooks/benders_cems.jl:530\n"
     ]
    }
   ],
   "source": [
    "@time benders_solution = benders_iterations(100,planning_model,operation_models);"
   ]
  }
 ],
 "metadata": {
  "@webio": {
   "lastCommId": null,
   "lastKernelId": null
  },
  "kernelspec": {
   "display_name": "Julia 1.11.1",
   "language": "julia",
   "name": "julia-1.11"
  },
  "language_info": {
   "file_extension": ".jl",
   "mimetype": "application/julia",
   "name": "julia",
   "version": "1.11.1"
  }
 },
 "nbformat": 4,
 "nbformat_minor": 4
}
